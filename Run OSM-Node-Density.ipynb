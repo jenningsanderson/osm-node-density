{
 "cells": [
  {
   "cell_type": "code",
   "execution_count": 1,
   "metadata": {
    "collapsed": false
   },
   "outputs": [
    {
     "ename": "TypeError",
     "evalue": "Cannot read property '0' of undefined",
     "output_type": "error",
     "traceback": [
      "TypeError: Cannot read property '0' of undefined",
      "    at evalmachine.<anonymous>:39:42",
      "    at ContextifyScript.Script.runInThisContext (vm.js:25:33)",
      "    at Object.runInThisContext (vm.js:97:38)",
      "    at run ([eval]:608:19)",
      "    at onRunRequest ([eval]:379:22)",
      "    at onMessage ([eval]:347:17)",
      "    at emitTwo (events.js:106:13)",
      "    at process.emit (events.js:191:7)",
      "    at process.nextTick (internal/child_process.js:753:12)",
      "    at _combinedTickCallback (internal/process/next_tick.js:73:7)"
     ]
    }
   ],
   "source": [
    "var merc = new (require(\"sphericalmercator\"))({size: 256});\n",
    "var osmium = require('osmium');\n",
    "var handler = new osmium.Handler();\n",
    "var fs      = require('fs');\n",
    "var liner = require('./code/liner')()\n",
    "\n",
    "var count = 0;\n",
    "var tiles = {};\n",
    "\n",
    "handler.on('init', function(){\n",
    "    console.log(\"Starting... \")\n",
    "})\n",
    "\n",
    "handler.on('node', function(node) {\n",
    "    count++;\n",
    "    if (count % 100000 === 0) console._stderr.write(\"\\rprocessed \"+count+\" nodes.\");\n",
    "    //var xyz = merc.xyz([node.lon, node.lat, node.lon, node.lat], 13);\n",
    "    //var x = xyz.minX,\n",
    "    //    y = xyz.minY;\n",
    "    var xy = merc.px([node.lon, node.lat], 15), //This is not the zoom level, this is zoom + (8)\n",
    "        x = Math.floor(xy[0]/256),\n",
    "        y = Math.floor(xy[1]/256);\n",
    "    if (!tiles[x])\n",
    "        tiles[x] = {};\n",
    "    if (!tiles[x][y])\n",
    "        tiles[x][y] = 0;\n",
    "    tiles[x][y]++;\n",
    "});\n",
    "\n",
    "handler.on('after_nodes',function() {\n",
    "    console.error(\"\\nDone processing \"+count+\" nodes.\");\n",
    "    for (var x in tiles)\n",
    "        for (var y in tiles[x]) {\n",
    "            var lat = merc.ll([0,y*256], 15)[1];\n",
    "            outFile.write(x + \" \" + y +\" \" + Math.round(tiles[x][y] / Math.cos(lat*Math.PI/180))+\"\\n\");\n",
    "        }\n",
    "});\n",
    "\n",
    "var inFile = new osmium.File(process.ARGV[0], \"pbf\");\n",
    "var outFile = new fs.createWriteStream(process.ARGV[1])\n",
    "\n",
    "var reader = new osmium.Reader(inFile,{ node: true, way: false });\n",
    "osmium.apply(reader, handler)"
   ]
  },
  {
   "cell_type": "code",
   "execution_count": null,
   "metadata": {
    "collapsed": true
   },
   "outputs": [],
   "source": []
  }
 ],
 "metadata": {
  "kernelspec": {
   "display_name": "Javascript (Node.js)",
   "language": "javascript",
   "name": "javascript"
  },
  "language_info": {
   "file_extension": ".js",
   "mimetype": "application/javascript",
   "name": "javascript",
   "version": "6.10.2"
  }
 },
 "nbformat": 4,
 "nbformat_minor": 1
}
