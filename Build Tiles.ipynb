{
 "cells": [
  {
   "cell_type": "code",
   "execution_count": 135,
   "metadata": {
    "collapsed": false
   },
   "outputs": [],
   "source": [
    "import os, sys\n",
    "import subprocess"
   ]
  },
  {
   "cell_type": "markdown",
   "metadata": {},
   "source": [
    "# Create tile directories!"
   ]
  },
  {
   "cell_type": "code",
   "execution_count": 136,
   "metadata": {
    "collapsed": true
   },
   "outputs": [],
   "source": [
    "base_dir = \"/data/www/jennings/tileserver/node-density/planet/\""
   ]
  },
  {
   "cell_type": "code",
   "execution_count": 137,
   "metadata": {
    "collapsed": false
   },
   "outputs": [
    {
     "data": {
      "text/plain": [
       "0"
      ]
     },
     "execution_count": 137,
     "metadata": {},
     "output_type": "execute_result"
    }
   ],
   "source": [
    "#empty it?\n",
    "os.system(\"rm -r {0}\".format(base_dir))"
   ]
  },
  {
   "cell_type": "code",
   "execution_count": 138,
   "metadata": {
    "collapsed": true
   },
   "outputs": [],
   "source": [
    "zoom_levels = [0,1,2,3,4,5,6,7]"
   ]
  },
  {
   "cell_type": "code",
   "execution_count": 139,
   "metadata": {
    "collapsed": false
   },
   "outputs": [],
   "source": [
    "if not os.path.exists(base_dir):\n",
    "    os.makedirs(base_dir)"
   ]
  },
  {
   "cell_type": "code",
   "execution_count": 140,
   "metadata": {
    "collapsed": false
   },
   "outputs": [],
   "source": [
    "for z in zoom_levels:\n",
    "    z_dir = base_dir+\"/\"+str(z)\n",
    "    if not os.path.exists(z_dir):\n",
    "        os.mkdir(z_dir)\n",
    "        for t in list(range(2**z)):\n",
    "            os.mkdir( z_dir+\"/\"+str(t) )"
   ]
  },
  {
   "cell_type": "markdown",
   "metadata": {},
   "source": [
    "## Now Run ImageMagick to make it all work!"
   ]
  },
  {
   "cell_type": "code",
   "execution_count": null,
   "metadata": {
    "collapsed": false
   },
   "outputs": [
    {
     "name": "stdout",
     "output_type": "stream",
     "text": [
      "/home/anderstj/osm-node-density/output/boulderdenver-0.png /data/www/jennings/tileserver/node-density/denver-boulder/0\n",
      "/home/anderstj/osm-node-density/output/boulderdenver-1.png /data/www/jennings/tileserver/node-density/denver-boulder/1\n",
      "/home/anderstj/osm-node-density/output/boulderdenver-2.png /data/www/jennings/tileserver/node-density/denver-boulder/2\n",
      "/home/anderstj/osm-node-density/output/boulderdenver-3.png /data/www/jennings/tileserver/node-density/denver-boulder/3\n",
      "/home/anderstj/osm-node-density/output/boulderdenver-4.png /data/www/jennings/tileserver/node-density/denver-boulder/4\n",
      "/home/anderstj/osm-node-density/output/boulderdenver-5.png /data/www/jennings/tileserver/node-density/denver-boulder/5\n",
      "/home/anderstj/osm-node-density/output/boulderdenver-6.png /data/www/jennings/tileserver/node-density/denver-boulder/6\n",
      "/home/anderstj/osm-node-density/output/boulderdenver-7.png /data/www/jennings/tileserver/node-density/denver-boulder/7\n"
     ]
    }
   ],
   "source": [
    "for z in zoom_levels:\n",
    "    image_file  = \"/home/anderstj/osm-node-density/output/boulderdenver-{0}.png\".format(z)\n",
    "    image_z_dir = base_dir + '/' + str(z)\n",
    "    print(image_file, image_z_dir)\n",
    "    \n",
    "    command = 'cd {0} && convert {1} -crop 256x256 -set filename:tile \"%[fx:page.x/256]/%[fx:page.y/256]\" +repage +adjoin \"%[filename:tile].png\"'.format(image_z_dir, image_file)\n",
    "    output = subprocess.check_output(command, shell=True)"
   ]
  },
  {
   "cell_type": "code",
   "execution_count": null,
   "metadata": {
    "collapsed": true
   },
   "outputs": [],
   "source": []
  }
 ],
 "metadata": {
  "kernelspec": {
   "display_name": "IPython (Python 3)",
   "language": "python",
   "name": "python3"
  },
  "language_info": {
   "codemirror_mode": {
    "name": "ipython",
    "version": 3
   },
   "file_extension": ".py",
   "mimetype": "text/x-python",
   "name": "python",
   "nbconvert_exporter": "python",
   "pygments_lexer": "ipython3",
   "version": "3.4.3"
  }
 },
 "nbformat": 4,
 "nbformat_minor": 1
}
